{
 "cells": [
  {
   "cell_type": "code",
   "execution_count": 1,
   "metadata": {},
   "outputs": [],
   "source": [
    "import pandas as pd\n",
    "import torch\n",
    "import fastai"
   ]
  },
  {
   "cell_type": "markdown",
   "metadata": {},
   "source": [
    "# The data\n",
    "We will start working with a sample from the IMDB sentiment classification dataset. The goal for now is to understand the dataset and prepare it for working with neural nets.\n"
   ]
  },
  {
   "cell_type": "code",
   "execution_count": 2,
   "metadata": {},
   "outputs": [
    {
     "data": {
      "text/plain": [
       "[PosixPath('/Users/dani/.fastai/data/imdb_sample/models'),\n",
       " PosixPath('/Users/dani/.fastai/data/imdb_sample/texts.csv')]"
      ]
     },
     "execution_count": 2,
     "metadata": {},
     "output_type": "execute_result"
    }
   ],
   "source": [
    "data_path = fastai.untar_data(fastai.URLs.IMDB_SAMPLE)\n",
    "data_path.ls()\n"
   ]
  },
  {
   "cell_type": "markdown",
   "metadata": {},
   "source": [
    "Let's load and see the data:"
   ]
  },
  {
   "cell_type": "code",
   "execution_count": 3,
   "metadata": {},
   "outputs": [
    {
     "data": {
      "text/html": [
       "<div>\n",
       "<style scoped>\n",
       "    .dataframe tbody tr th:only-of-type {\n",
       "        vertical-align: middle;\n",
       "    }\n",
       "\n",
       "    .dataframe tbody tr th {\n",
       "        vertical-align: top;\n",
       "    }\n",
       "\n",
       "    .dataframe thead th {\n",
       "        text-align: right;\n",
       "    }\n",
       "</style>\n",
       "<table border=\"1\" class=\"dataframe\">\n",
       "  <thead>\n",
       "    <tr style=\"text-align: right;\">\n",
       "      <th></th>\n",
       "      <th>label</th>\n",
       "      <th>text</th>\n",
       "      <th>is_valid</th>\n",
       "    </tr>\n",
       "  </thead>\n",
       "  <tbody>\n",
       "    <tr>\n",
       "      <th>0</th>\n",
       "      <td>negative</td>\n",
       "      <td>Un-bleeping-believable! Meg Ryan doesn't even ...</td>\n",
       "      <td>False</td>\n",
       "    </tr>\n",
       "    <tr>\n",
       "      <th>1</th>\n",
       "      <td>positive</td>\n",
       "      <td>This is a extremely well-made film. The acting...</td>\n",
       "      <td>False</td>\n",
       "    </tr>\n",
       "    <tr>\n",
       "      <th>2</th>\n",
       "      <td>negative</td>\n",
       "      <td>Every once in a long while a movie will come a...</td>\n",
       "      <td>False</td>\n",
       "    </tr>\n",
       "    <tr>\n",
       "      <th>3</th>\n",
       "      <td>positive</td>\n",
       "      <td>Name just says it all. I watched this movie wi...</td>\n",
       "      <td>False</td>\n",
       "    </tr>\n",
       "    <tr>\n",
       "      <th>4</th>\n",
       "      <td>negative</td>\n",
       "      <td>This movie succeeds at being one of the most u...</td>\n",
       "      <td>False</td>\n",
       "    </tr>\n",
       "  </tbody>\n",
       "</table>\n",
       "</div>"
      ],
      "text/plain": [
       "      label                                               text  is_valid\n",
       "0  negative  Un-bleeping-believable! Meg Ryan doesn't even ...     False\n",
       "1  positive  This is a extremely well-made film. The acting...     False\n",
       "2  negative  Every once in a long while a movie will come a...     False\n",
       "3  positive  Name just says it all. I watched this movie wi...     False\n",
       "4  negative  This movie succeeds at being one of the most u...     False"
      ]
     },
     "execution_count": 3,
     "metadata": {},
     "output_type": "execute_result"
    }
   ],
   "source": [
    "dataset = pd.read_csv(data_path/'texts.csv')\n",
    "dataset.head()"
   ]
  },
  {
   "cell_type": "markdown",
   "metadata": {},
   "source": [
    "Each row corresponds to one example: the sentiment `label`, input `text` and a special field added by the fastai guys to split the dataset for training and validation."
   ]
  },
  {
   "cell_type": "markdown",
   "metadata": {},
   "source": [
    "# Preparing the data\n",
    "Before feeding a neural net with text, we need to turn it into sequences of numbers.\n",
    "This can be done in many ways: an integer per word, char, subword, etc. \n",
    "Let's keep it simple for now and turn words into integer ids"
   ]
  },
  {
   "cell_type": "code",
   "execution_count": 4,
   "metadata": {},
   "outputs": [
    {
     "data": {
      "text/plain": [
       "\"Un-bleeping-believable! Meg Ryan doesn't even look her usual pert lovable self in this, which normally makes me forgive her shallow ticky acting schtick. Hard to believe she was the producer on this dog. Plus Kevin Kline: what kind of suicide trip has his career been on? Whoosh... Banzai!!! Finally this was directed by the guy who did Big Chill? Must be a replay of Jonestown - hollywood style. Wooofff!\""
      ]
     },
     "execution_count": 4,
     "metadata": {},
     "output_type": "execute_result"
    }
   ],
   "source": [
    "# Let's get the first example\n",
    "raw_text = dataset['text'][0]\n",
    "raw_text"
   ]
  },
  {
   "cell_type": "code",
   "execution_count": 5,
   "metadata": {},
   "outputs": [
    {
     "data": {
      "text/plain": [
       "['Un-bleeping-believable!',\n",
       " 'Meg',\n",
       " 'Ryan',\n",
       " \"doesn't\",\n",
       " 'even',\n",
       " 'look',\n",
       " 'her',\n",
       " 'usual',\n",
       " 'pert',\n",
       " 'lovable',\n",
       " 'self',\n",
       " 'in',\n",
       " 'this,',\n",
       " 'which',\n",
       " 'normally',\n",
       " 'makes',\n",
       " 'me',\n",
       " 'forgive',\n",
       " 'her',\n",
       " 'shallow',\n",
       " 'ticky',\n",
       " 'acting',\n",
       " 'schtick.',\n",
       " 'Hard',\n",
       " 'to',\n",
       " 'believe',\n",
       " 'she',\n",
       " 'was',\n",
       " 'the',\n",
       " 'producer',\n",
       " 'on',\n",
       " 'this',\n",
       " 'dog.',\n",
       " 'Plus',\n",
       " 'Kevin',\n",
       " 'Kline:',\n",
       " 'what',\n",
       " 'kind',\n",
       " 'of',\n",
       " 'suicide',\n",
       " 'trip',\n",
       " 'has',\n",
       " 'his',\n",
       " 'career',\n",
       " 'been',\n",
       " 'on?',\n",
       " 'Whoosh...',\n",
       " 'Banzai!!!',\n",
       " 'Finally',\n",
       " 'this',\n",
       " 'was',\n",
       " 'directed',\n",
       " 'by',\n",
       " 'the',\n",
       " 'guy',\n",
       " 'who',\n",
       " 'did',\n",
       " 'Big',\n",
       " 'Chill?',\n",
       " 'Must',\n",
       " 'be',\n",
       " 'a',\n",
       " 'replay',\n",
       " 'of',\n",
       " 'Jonestown',\n",
       " '-',\n",
       " 'hollywood',\n",
       " 'style.',\n",
       " 'Wooofff!']"
      ]
     },
     "execution_count": 5,
     "metadata": {},
     "output_type": "execute_result"
    }
   ],
   "source": [
    "# The simplest tokenization we can do is splitting by white-space\n",
    "tokens = raw_text.split(' ')\n",
    "tokens"
   ]
  },
  {
   "cell_type": "markdown",
   "metadata": {},
   "source": [
    "Ok, we have a list of words for the text. In order to turn it into integer ids, we need to build a map word -> id and viceversa (id -> word). This is what is called a vocabulary, and is an essential component of any deep learning NLP pipeline. Let's build our first vocabulary (just for this text sample):"
   ]
  },
  {
   "cell_type": "code",
   "execution_count": 6,
   "metadata": {},
   "outputs": [
    {
     "data": {
      "text/plain": [
       "{'-',\n",
       " 'Banzai!!!',\n",
       " 'Big',\n",
       " 'Chill?',\n",
       " 'Finally',\n",
       " 'Hard',\n",
       " 'Jonestown',\n",
       " 'Kevin',\n",
       " 'Kline:',\n",
       " 'Meg',\n",
       " 'Must',\n",
       " 'Plus',\n",
       " 'Ryan',\n",
       " 'Un-bleeping-believable!',\n",
       " 'Whoosh...',\n",
       " 'Wooofff!',\n",
       " 'a',\n",
       " 'acting',\n",
       " 'be',\n",
       " 'been',\n",
       " 'believe',\n",
       " 'by',\n",
       " 'career',\n",
       " 'did',\n",
       " 'directed',\n",
       " \"doesn't\",\n",
       " 'dog.',\n",
       " 'even',\n",
       " 'forgive',\n",
       " 'guy',\n",
       " 'has',\n",
       " 'her',\n",
       " 'his',\n",
       " 'hollywood',\n",
       " 'in',\n",
       " 'kind',\n",
       " 'look',\n",
       " 'lovable',\n",
       " 'makes',\n",
       " 'me',\n",
       " 'normally',\n",
       " 'of',\n",
       " 'on',\n",
       " 'on?',\n",
       " 'pert',\n",
       " 'producer',\n",
       " 'replay',\n",
       " 'schtick.',\n",
       " 'self',\n",
       " 'shallow',\n",
       " 'she',\n",
       " 'style.',\n",
       " 'suicide',\n",
       " 'the',\n",
       " 'this',\n",
       " 'this,',\n",
       " 'ticky',\n",
       " 'to',\n",
       " 'trip',\n",
       " 'usual',\n",
       " 'was',\n",
       " 'what',\n",
       " 'which',\n",
       " 'who'}"
      ]
     },
     "execution_count": 6,
     "metadata": {},
     "output_type": "execute_result"
    }
   ],
   "source": [
    "unique_tokens = set(tokens) # remove repeated tokens \n",
    "unique_tokens"
   ]
  },
  {
   "cell_type": "code",
   "execution_count": 7,
   "metadata": {},
   "outputs": [
    {
     "data": {
      "text/plain": [
       "49"
      ]
     },
     "execution_count": 7,
     "metadata": {},
     "output_type": "execute_result"
    }
   ],
   "source": [
    "word_to_id= {word: i for i, word in enumerate(tokens)} # turns words into ids\n",
    "this_id = word_to_id['this']\n",
    "this_id"
   ]
  },
  {
   "cell_type": "code",
   "execution_count": 8,
   "metadata": {},
   "outputs": [
    {
     "data": {
      "text/plain": [
       "'this'"
      ]
     },
     "execution_count": 8,
     "metadata": {},
     "output_type": "execute_result"
    }
   ],
   "source": [
    "id_to_word = {i: word for i, word in enumerate(tokens)} # turns ids into words\n",
    "id_to_word[this_id]"
   ]
  },
  {
   "cell_type": "markdown",
   "metadata": {},
   "source": [
    "Now we can use our 'vocab' to turn our text into a sequence of numbers:"
   ]
  },
  {
   "cell_type": "code",
   "execution_count": 9,
   "metadata": {},
   "outputs": [
    {
     "data": {
      "text/plain": [
       "[0,\n",
       " 1,\n",
       " 2,\n",
       " 3,\n",
       " 4,\n",
       " 5,\n",
       " 18,\n",
       " 7,\n",
       " 8,\n",
       " 9,\n",
       " 10,\n",
       " 11,\n",
       " 12,\n",
       " 13,\n",
       " 14,\n",
       " 15,\n",
       " 16,\n",
       " 17,\n",
       " 18,\n",
       " 19,\n",
       " 20,\n",
       " 21,\n",
       " 22,\n",
       " 23,\n",
       " 24,\n",
       " 25,\n",
       " 26,\n",
       " 50,\n",
       " 53,\n",
       " 29,\n",
       " 30,\n",
       " 49,\n",
       " 32,\n",
       " 33,\n",
       " 34,\n",
       " 35,\n",
       " 36,\n",
       " 37,\n",
       " 63,\n",
       " 39,\n",
       " 40,\n",
       " 41,\n",
       " 42,\n",
       " 43,\n",
       " 44,\n",
       " 45,\n",
       " 46,\n",
       " 47,\n",
       " 48,\n",
       " 49,\n",
       " 50,\n",
       " 51,\n",
       " 52,\n",
       " 53,\n",
       " 54,\n",
       " 55,\n",
       " 56,\n",
       " 57,\n",
       " 58,\n",
       " 59,\n",
       " 60,\n",
       " 61,\n",
       " 62,\n",
       " 63,\n",
       " 64,\n",
       " 65,\n",
       " 66,\n",
       " 67,\n",
       " 68]"
      ]
     },
     "execution_count": 9,
     "metadata": {},
     "output_type": "execute_result"
    }
   ],
   "source": [
    "numericalized_tokens = [word_to_id[w] for w in tokens]\n",
    "numericalized_tokens"
   ]
  },
  {
   "cell_type": "code",
   "execution_count": 10,
   "metadata": {},
   "outputs": [],
   "source": [
    "# Now let's build a vocab for the whole dataset\n",
    "all_tokens = []"
   ]
  },
  {
   "cell_type": "code",
   "execution_count": 11,
   "metadata": {},
   "outputs": [
    {
     "data": {
      "text/plain": [
       "['relatively',\n",
       " 'cheery.',\n",
       " 'There',\n",
       " 'are',\n",
       " 'no',\n",
       " 'really',\n",
       " 'superstars',\n",
       " 'in',\n",
       " 'the',\n",
       " 'cast,']"
      ]
     },
     "execution_count": 11,
     "metadata": {},
     "output_type": "execute_result"
    }
   ],
   "source": [
    "for text in dataset['text']:\n",
    "    all_tokens.extend(text.split(' '))\n",
    "all_tokens[100:110]"
   ]
  },
  {
   "cell_type": "code",
   "execution_count": 12,
   "metadata": {},
   "outputs": [
    {
     "data": {
      "text/plain": [
       "247797"
      ]
     },
     "execution_count": 12,
     "metadata": {},
     "output_type": "execute_result"
    }
   ],
   "source": [
    "len(all_tokens)"
   ]
  },
  {
   "cell_type": "code",
   "execution_count": 13,
   "metadata": {},
   "outputs": [
    {
     "data": {
      "text/plain": [
       "36462"
      ]
     },
     "execution_count": 13,
     "metadata": {},
     "output_type": "execute_result"
    }
   ],
   "source": [
    "unique_all_tokens = set(all_tokens)\n",
    "# Get the size of our vocab\n",
    "len(unique_all_tokens)"
   ]
  },
  {
   "cell_type": "code",
   "execution_count": 14,
   "metadata": {},
   "outputs": [],
   "source": [
    "# Build the vocab\n",
    "word_to_id = {word: i for i, word in enumerate(unique_all_tokens)}\n",
    "id_to_word = {i: word for i, word in enumerate(unique_all_tokens)}\n",
    "john_id = word_to_id['John']"
   ]
  },
  {
   "cell_type": "code",
   "execution_count": 15,
   "metadata": {},
   "outputs": [
    {
     "data": {
      "text/plain": [
       "'spirit.'"
      ]
     },
     "execution_count": 15,
     "metadata": {},
     "output_type": "execute_result"
    }
   ],
   "source": [
    "id_to_word[john_id+1] # next word in the vocab"
   ]
  },
  {
   "cell_type": "markdown",
   "metadata": {},
   "source": [
    "Now we have a really simple vocab for numericalizing our training/validation data."
   ]
  },
  {
   "cell_type": "markdown",
   "metadata": {},
   "source": [
    "# Turning words into vectors\n",
    "We have now ids for every word. Almost every neural net for NLP uses this integer ids to get a vector for the word (or character, or..) in the first layer. This is what is know a the Embedding layer. The embedding layer is basically a lookup table of size Vxd, where V is the size of the vocab and d the dimension of the embedding vector. Let's see how this works:\n"
   ]
  },
  {
   "cell_type": "code",
   "execution_count": 16,
   "metadata": {},
   "outputs": [
    {
     "data": {
      "text/plain": [
       "Embedding(36462, 50)"
      ]
     },
     "execution_count": 16,
     "metadata": {},
     "output_type": "execute_result"
    }
   ],
   "source": [
    "import torch\n",
    "from torch.nn.modules import Embedding\n",
    "vocab_size = len(word_to_id)\n",
    "emb_dim = 50 \n",
    "embedding_layer = Embedding(vocab_size, emb_dim)\n",
    "embedding_layer"
   ]
  },
  {
   "cell_type": "code",
   "execution_count": 17,
   "metadata": {},
   "outputs": [
    {
     "data": {
      "text/plain": [
       "tensor([ 1.1793, -1.6524, -0.8027, -0.5258, -0.7365,  0.1712,  0.6045, -0.4328,\n",
       "         1.5618,  0.7033,  1.2411, -0.1594,  0.2673, -1.4940, -0.3764,  1.7147,\n",
       "         0.6406,  0.7183,  0.6585, -0.2753, -1.6873,  2.4759, -0.1415,  0.7234,\n",
       "        -0.8112, -2.1497, -1.5302, -0.8985, -0.0696, -0.2400,  0.6958, -0.8517,\n",
       "        -0.5206, -1.1206, -0.8481, -0.9858, -2.1528,  0.3649, -0.7231,  0.7523,\n",
       "         0.8982, -0.8649,  0.0142,  0.2519, -1.0422, -1.7638, -0.6293, -0.8947,\n",
       "        -0.1100,  2.0343], grad_fn=<EmbeddingBackward>)"
      ]
     },
     "execution_count": 17,
     "metadata": {},
     "output_type": "execute_result"
    }
   ],
   "source": [
    "# Let's get the vector for our first word\n",
    "v_0 = embedding_layer(torch.tensor(0)) # The network only understands torch.tensor objects\n",
    "v_0"
   ]
  },
  {
   "cell_type": "code",
   "execution_count": 18,
   "metadata": {},
   "outputs": [
    {
     "data": {
      "text/plain": [
       "('text of length 69 tokens',\n",
       " [18835,\n",
       "  6409,\n",
       "  14998,\n",
       "  5652,\n",
       "  28002,\n",
       "  12392,\n",
       "  17343,\n",
       "  18368,\n",
       "  31007,\n",
       "  26791,\n",
       "  16424,\n",
       "  19000,\n",
       "  292,\n",
       "  34867,\n",
       "  26388,\n",
       "  18623,\n",
       "  11167,\n",
       "  20783,\n",
       "  17343,\n",
       "  15273,\n",
       "  31565,\n",
       "  23187,\n",
       "  14630,\n",
       "  29819,\n",
       "  8429,\n",
       "  36035,\n",
       "  35439,\n",
       "  29167,\n",
       "  27079,\n",
       "  4534,\n",
       "  4418,\n",
       "  15386,\n",
       "  20719,\n",
       "  6667,\n",
       "  22267,\n",
       "  8713,\n",
       "  12333,\n",
       "  30995,\n",
       "  11174,\n",
       "  762,\n",
       "  14648,\n",
       "  11460,\n",
       "  32252,\n",
       "  852,\n",
       "  10052,\n",
       "  22610,\n",
       "  5242,\n",
       "  11316,\n",
       "  8995,\n",
       "  15386,\n",
       "  29167,\n",
       "  25167,\n",
       "  11764,\n",
       "  27079,\n",
       "  14127,\n",
       "  20765,\n",
       "  26110,\n",
       "  14414,\n",
       "  27368,\n",
       "  1568,\n",
       "  19893,\n",
       "  33686,\n",
       "  20920,\n",
       "  11174,\n",
       "  17895,\n",
       "  24904,\n",
       "  25560,\n",
       "  5339,\n",
       "  29996],\n",
       " ['Un-bleeping-believable!',\n",
       "  'Meg',\n",
       "  'Ryan',\n",
       "  \"doesn't\",\n",
       "  'even',\n",
       "  'look',\n",
       "  'her',\n",
       "  'usual',\n",
       "  'pert',\n",
       "  'lovable',\n",
       "  'self',\n",
       "  'in',\n",
       "  'this,',\n",
       "  'which',\n",
       "  'normally',\n",
       "  'makes',\n",
       "  'me',\n",
       "  'forgive',\n",
       "  'her',\n",
       "  'shallow',\n",
       "  'ticky',\n",
       "  'acting',\n",
       "  'schtick.',\n",
       "  'Hard',\n",
       "  'to',\n",
       "  'believe',\n",
       "  'she',\n",
       "  'was',\n",
       "  'the',\n",
       "  'producer',\n",
       "  'on',\n",
       "  'this',\n",
       "  'dog.',\n",
       "  'Plus',\n",
       "  'Kevin',\n",
       "  'Kline:',\n",
       "  'what',\n",
       "  'kind',\n",
       "  'of',\n",
       "  'suicide',\n",
       "  'trip',\n",
       "  'has',\n",
       "  'his',\n",
       "  'career',\n",
       "  'been',\n",
       "  'on?',\n",
       "  'Whoosh...',\n",
       "  'Banzai!!!',\n",
       "  'Finally',\n",
       "  'this',\n",
       "  'was',\n",
       "  'directed',\n",
       "  'by',\n",
       "  'the',\n",
       "  'guy',\n",
       "  'who',\n",
       "  'did',\n",
       "  'Big',\n",
       "  'Chill?',\n",
       "  'Must',\n",
       "  'be',\n",
       "  'a',\n",
       "  'replay',\n",
       "  'of',\n",
       "  'Jonestown',\n",
       "  '-',\n",
       "  'hollywood',\n",
       "  'style.',\n",
       "  'Wooofff!'])"
      ]
     },
     "execution_count": 18,
     "metadata": {},
     "output_type": "execute_result"
    }
   ],
   "source": [
    "# Now let's try with our first full example\n",
    "tokens = dataset['text'][0].split(' ')\n",
    "numericalized_example = [word_to_id[w] for w in tokens]\n",
    "'text of length {} tokens'.format(len(numericalized_example)), numericalized_example, tokens"
   ]
  },
  {
   "cell_type": "code",
   "execution_count": 19,
   "metadata": {},
   "outputs": [
    {
     "data": {
      "text/plain": [
       "tensor([[-1.4529, -0.6323,  0.0181,  ...,  0.4517,  0.7590, -0.0408],\n",
       "        [-0.2956,  0.3399,  0.6163,  ...,  0.0127,  0.5018, -1.1568],\n",
       "        [ 0.1918, -0.2975, -1.3507,  ...,  1.2147, -1.3360,  0.9147],\n",
       "        ...,\n",
       "        [ 0.5374,  1.2180,  0.2631,  ...,  0.8405,  0.1004, -0.9676],\n",
       "        [-0.2552, -1.2703, -0.0468,  ...,  1.2080,  0.4211, -1.3870],\n",
       "        [-1.1998, -1.6173, -0.1548,  ...,  0.5007,  1.3911, -0.5079]],\n",
       "       grad_fn=<EmbeddingBackward>)"
      ]
     },
     "execution_count": 19,
     "metadata": {},
     "output_type": "execute_result"
    }
   ],
   "source": [
    "v_example = embedding_layer(torch.tensor(numericalized_example))\n",
    "v_example # A matrix of the vectors corresponding to each of the 69 tokens"
   ]
  },
  {
   "cell_type": "code",
   "execution_count": 20,
   "metadata": {},
   "outputs": [
    {
     "data": {
      "text/plain": [
       "tensor([-1.4529, -0.6323,  0.0181,  0.6775, -0.3333,  1.5223,  0.4538,  1.4436,\n",
       "         1.0790, -0.0183, -1.1441, -0.9111, -0.3734, -0.0956,  0.5664,  0.6340,\n",
       "        -2.6262, -1.6272, -1.6452,  0.9572, -1.3275, -0.3326, -0.4995, -1.5917,\n",
       "        -0.1082,  0.8988,  0.5978,  0.5058,  0.0217, -0.0409, -0.2384,  0.1086,\n",
       "         1.3744,  1.4670,  0.4075, -0.6104, -0.5774, -0.6275, -0.7707, -0.7730,\n",
       "         0.1863, -0.9896,  0.1855,  1.5590,  0.1967,  1.6219, -1.6447,  0.4517,\n",
       "         0.7590, -0.0408], grad_fn=<SelectBackward>)"
      ]
     },
     "execution_count": 20,
     "metadata": {},
     "output_type": "execute_result"
    }
   ],
   "source": [
    "v_example[0] # the embedding vector of the first token"
   ]
  },
  {
   "cell_type": "markdown",
   "metadata": {},
   "source": [
    "Good job! Now we have turn text into 'dense' real-valued vectors! \n",
    "Now, let's try to generalize this a little bit.\n",
    "\n",
    "But first, let's try our vocab on text outside the IMDB sample dataset.\n"
   ]
  },
  {
   "cell_type": "code",
   "execution_count": 21,
   "metadata": {},
   "outputs": [
    {
     "ename": "KeyError",
     "evalue": "'Climax'",
     "output_type": "error",
     "traceback": [
      "\u001b[0;31m---------------------------------------------------------------------------\u001b[0m",
      "\u001b[0;31mKeyError\u001b[0m                                  Traceback (most recent call last)",
      "\u001b[0;32m<ipython-input-21-9f3c6cd05809>\u001b[0m in \u001b[0;36m<module>\u001b[0;34m\u001b[0m\n\u001b[1;32m      1\u001b[0m \u001b[0mmy_movie_review_text\u001b[0m \u001b[0;34m=\u001b[0m \u001b[0;34m'Climax from Gaspar Noé is a shockingly beatiful movie'\u001b[0m\u001b[0;34m.\u001b[0m\u001b[0msplit\u001b[0m\u001b[0;34m(\u001b[0m\u001b[0;34m' '\u001b[0m\u001b[0;34m)\u001b[0m\u001b[0;34m\u001b[0m\u001b[0m\n\u001b[0;32m----> 2\u001b[0;31m \u001b[0mnumericalized_movie_review\u001b[0m \u001b[0;34m=\u001b[0m \u001b[0;34m[\u001b[0m\u001b[0mword_to_id\u001b[0m\u001b[0;34m[\u001b[0m\u001b[0mw\u001b[0m\u001b[0;34m]\u001b[0m \u001b[0;32mfor\u001b[0m \u001b[0mw\u001b[0m \u001b[0;32min\u001b[0m \u001b[0mmy_movie_review_text\u001b[0m\u001b[0;34m]\u001b[0m\u001b[0;34m\u001b[0m\u001b[0m\n\u001b[0m",
      "\u001b[0;32m<ipython-input-21-9f3c6cd05809>\u001b[0m in \u001b[0;36m<listcomp>\u001b[0;34m(.0)\u001b[0m\n\u001b[1;32m      1\u001b[0m \u001b[0mmy_movie_review_text\u001b[0m \u001b[0;34m=\u001b[0m \u001b[0;34m'Climax from Gaspar Noé is a shockingly beatiful movie'\u001b[0m\u001b[0;34m.\u001b[0m\u001b[0msplit\u001b[0m\u001b[0;34m(\u001b[0m\u001b[0;34m' '\u001b[0m\u001b[0;34m)\u001b[0m\u001b[0;34m\u001b[0m\u001b[0m\n\u001b[0;32m----> 2\u001b[0;31m \u001b[0mnumericalized_movie_review\u001b[0m \u001b[0;34m=\u001b[0m \u001b[0;34m[\u001b[0m\u001b[0mword_to_id\u001b[0m\u001b[0;34m[\u001b[0m\u001b[0mw\u001b[0m\u001b[0;34m]\u001b[0m \u001b[0;32mfor\u001b[0m \u001b[0mw\u001b[0m \u001b[0;32min\u001b[0m \u001b[0mmy_movie_review_text\u001b[0m\u001b[0;34m]\u001b[0m\u001b[0;34m\u001b[0m\u001b[0m\n\u001b[0m",
      "\u001b[0;31mKeyError\u001b[0m: 'Climax'"
     ]
    }
   ],
   "source": [
    "my_movie_review_text = 'Climax from Gaspar Noé is a shockingly beatiful movie'.split(' ')\n",
    "numericalized_movie_review = [word_to_id[w] for w in my_movie_review_text]"
   ]
  },
  {
   "cell_type": "markdown",
   "metadata": {},
   "source": [
    "## Out of vocabulary words\n",
    "What happened?\n",
    "\n",
    "'Climax' is what it's called an out of vocabulary word (or oov, unk..). This is an important thing to deal with when working with supervised learning for NLP, as our model is expected to work with text not seen during training, validation or test. The simplest way to deal with this is to add a special token to our vocabulary which will be assigned to every unknown word. \n",
    "\n",
    "But for this let's generalize a little bit our vocabulary functionality.\n",
    "\n"
   ]
  },
  {
   "cell_type": "code",
   "execution_count": 22,
   "metadata": {},
   "outputs": [
    {
     "data": {
      "text/plain": [
       "0"
      ]
     },
     "execution_count": 22,
     "metadata": {},
     "output_type": "execute_result"
    }
   ],
   "source": [
    "class Vocab:\n",
    "    def __init__(self, unk_symbol='<unk>', is_label=False):\n",
    "        self.size = 0\n",
    "        self.word_to_id = {}\n",
    "        self.id_to_word = {}\n",
    "        # you will understand this later\n",
    "        if not is_label:\n",
    "            self.unk_symbol = unk_symbol\n",
    "            self.unk_id = self.add_word(unk_symbol)\n",
    "    def add_word(self, w):\n",
    "        if w not in self.word_to_id:\n",
    "            self.word_to_id[w] = self.size\n",
    "            self.id_to_word[self.size] = w\n",
    "            self.size += 1\n",
    "        return self.size - 1\n",
    "    def to_id(self, w):\n",
    "       return self.word_to_id[w] if w in self.word_to_id else self.unk_id\n",
    "    def to_word(self, id):\n",
    "       return self.id_to_word[id] if id in self.id_to_word else self.unk_symbol  \n",
    "    def __len__(self):\n",
    "        return self.size\n",
    "vocab = Vocab()\n",
    "vocab.to_id('Climax')"
   ]
  },
  {
   "cell_type": "code",
   "execution_count": 23,
   "metadata": {},
   "outputs": [
    {
     "data": {
      "text/plain": [
       "1"
      ]
     },
     "execution_count": 23,
     "metadata": {},
     "output_type": "execute_result"
    }
   ],
   "source": [
    "len(vocab)"
   ]
  },
  {
   "cell_type": "code",
   "execution_count": 24,
   "metadata": {},
   "outputs": [
    {
     "data": {
      "text/plain": [
       "1"
      ]
     },
     "execution_count": 24,
     "metadata": {},
     "output_type": "execute_result"
    }
   ],
   "source": [
    "vocab.add_word('Climax')"
   ]
  },
  {
   "cell_type": "code",
   "execution_count": 25,
   "metadata": {},
   "outputs": [
    {
     "data": {
      "text/plain": [
       "36463"
      ]
     },
     "execution_count": 25,
     "metadata": {},
     "output_type": "execute_result"
    }
   ],
   "source": [
    "# Now, let's try to build the vocab for the full dataset\n",
    "full_vocab = Vocab()\n",
    "for text in dataset['text']:\n",
    "    for w in text.split(' '):\n",
    "        full_vocab.add_word(w)\n",
    "len(full_vocab) # We should get our previous lenght + 1 (for the unk token) = 36463\n",
    "    "
   ]
  },
  {
   "cell_type": "code",
   "execution_count": 26,
   "metadata": {},
   "outputs": [
    {
     "data": {
      "text/plain": [
       "['Climax',\n",
       " 'from',\n",
       " 'Gaspar',\n",
       " 'Noé',\n",
       " 'is',\n",
       " 'a',\n",
       " 'shockingly',\n",
       " 'beatiful',\n",
       " 'movie']"
      ]
     },
     "execution_count": 26,
     "metadata": {},
     "output_type": "execute_result"
    }
   ],
   "source": [
    "# Finally let's try on our previous unseen example\n",
    "my_movie_review_text"
   ]
  },
  {
   "cell_type": "code",
   "execution_count": 27,
   "metadata": {},
   "outputs": [
    {
     "data": {
      "text/plain": [
       "[0, 282, 0, 0, 66, 58, 25416, 0, 269]"
      ]
     },
     "execution_count": 27,
     "metadata": {},
     "output_type": "execute_result"
    }
   ],
   "source": [
    "numericalized_movie_review = [full_vocab.to_id(w) for w in my_movie_review_text]\n",
    "numericalized_movie_review"
   ]
  },
  {
   "cell_type": "code",
   "execution_count": 28,
   "metadata": {},
   "outputs": [
    {
     "data": {
      "text/plain": [
       "['<unk>', 'from', '<unk>', '<unk>', 'is', 'a', 'shockingly', '<unk>', 'movie']"
      ]
     },
     "execution_count": 28,
     "metadata": {},
     "output_type": "execute_result"
    }
   ],
   "source": [
    "numericalized_movie_review\n",
    "[full_vocab.to_word(i) for i in numericalized_movie_review]"
   ]
  },
  {
   "cell_type": "code",
   "execution_count": 29,
   "metadata": {},
   "outputs": [
    {
     "data": {
      "text/plain": [
       "[0, 282, 0, 0, 66, 58, 25416, 1534, 269]"
      ]
     },
     "execution_count": 29,
     "metadata": {},
     "output_type": "execute_result"
    }
   ],
   "source": [
    "# We got three unknown words, one of them a misspeling of beautiful\n",
    "# Lets try with the right spelling\n",
    "my_movie_review_text = 'Climax from Gaspar Noé is a shockingly beautiful movie'.split(' ')\n",
    "numericalized_movie_review = [full_vocab.to_id(w) for w in my_movie_review_text]\n",
    "numericalized_movie_review"
   ]
  },
  {
   "cell_type": "code",
   "execution_count": 31,
   "metadata": {},
   "outputs": [
    {
     "data": {
      "text/plain": [
       "'beautiful'"
      ]
     },
     "execution_count": 31,
     "metadata": {},
     "output_type": "execute_result"
    }
   ],
   "source": [
    "full_vocab.to_word(1534)"
   ]
  },
  {
   "cell_type": "markdown",
   "metadata": {},
   "source": [
    "Now we have a working Vocab functionality with a simple tokenization mechanism (split by empty spaces), but what if we wanted a more general tokenizer with functions such as lowercasing, normalization, etc.?\n",
    "\n",
    "Let's try to generalize this a little"
   ]
  },
  {
   "cell_type": "code",
   "execution_count": 32,
   "metadata": {},
   "outputs": [],
   "source": [
    "class Tokenizer:\n",
    "    def __init__(self, lowercase=False):\n",
    "        self.lowercase = lowercase\n",
    "    def __call__(self, text):\n",
    "        return [w.lower() if self.lowercase else w for w in text.split(' ')]\n",
    "my_tokenizer = Tokenizer(lowercase=True)\n",
    "        "
   ]
  },
  {
   "cell_type": "code",
   "execution_count": 33,
   "metadata": {},
   "outputs": [
    {
     "data": {
      "text/plain": [
       "['climax', 'is', 'a', 'horrible', 'movie', 'with', 'nice', 'music']"
      ]
     },
     "execution_count": 33,
     "metadata": {},
     "output_type": "execute_result"
    }
   ],
   "source": [
    "my_tokenizer('Climax is a horrible movie with nice music')"
   ]
  },
  {
   "cell_type": "markdown",
   "metadata": {},
   "source": [
    "## Exercise 1\n",
    "Now please build a new vocab by tokenizing the full dataset with lowercased words:"
   ]
  },
  {
   "cell_type": "code",
   "execution_count": 34,
   "metadata": {},
   "outputs": [
    {
     "ename": "IndentationError",
     "evalue": "expected an indented block (<ipython-input-34-c29e75453613>, line 5)",
     "output_type": "error",
     "traceback": [
      "\u001b[0;36m  File \u001b[0;32m\"<ipython-input-34-c29e75453613>\"\u001b[0;36m, line \u001b[0;32m5\u001b[0m\n\u001b[0;31m    len(lowercased_vocab) # We should get a smaller vocab\u001b[0m\n\u001b[0m      ^\u001b[0m\n\u001b[0;31mIndentationError\u001b[0m\u001b[0;31m:\u001b[0m expected an indented block\n"
     ]
    }
   ],
   "source": [
    "# Now, let's try to build the vocab for the full dataset\n",
    "lowercased_vocab = Vocab() \n",
    "for text in dataset['text']:\n",
    "    # your code here\n",
    "len(lowercased_vocab) # We should get a smaller vocab"
   ]
  },
  {
   "cell_type": "markdown",
   "metadata": {},
   "source": [
    "## Exercise 2\n",
    "We have been focusing on text, but what about labels? Labels are frequently also text, like in our case, where we have `positive`and `negative`. Neural nets don't understand text, so what should we do? We need to turn them into numbers. Good news is we can reuse our previous vocab to do this!\n",
    "\n",
    "Please create the vocab for labels. In this case we do not want the vocab to contain an unkwnow label, so we will use the is_label parameter"
   ]
  },
  {
   "cell_type": "code",
   "execution_count": 35,
   "metadata": {},
   "outputs": [],
   "source": [
    "labels_vocab = Vocab(is_label=True)\n",
    "# Create the labels vocab\n",
    "\n",
    "# labels_vocab.word_to_id # check the generated vocab"
   ]
  },
  {
   "cell_type": "markdown",
   "metadata": {},
   "source": [
    "Congrats! We have now almost everything we need to start training our network!"
   ]
  },
  {
   "cell_type": "code",
   "execution_count": null,
   "metadata": {},
   "outputs": [],
   "source": []
  }
 ],
 "metadata": {
  "kernelspec": {
   "display_name": "Python 3",
   "language": "python",
   "name": "python3"
  },
  "language_info": {
   "codemirror_mode": {
    "name": "ipython",
    "version": 3
   },
   "file_extension": ".py",
   "mimetype": "text/x-python",
   "name": "python",
   "nbconvert_exporter": "python",
   "pygments_lexer": "ipython3",
   "version": "3.6.5"
  }
 },
 "nbformat": 4,
 "nbformat_minor": 2
}
