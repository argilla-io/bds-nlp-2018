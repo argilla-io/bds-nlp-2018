{
 "cells": [
  {
   "cell_type": "code",
   "execution_count": 7,
   "metadata": {},
   "outputs": [],
   "source": [
    "import pandas as pd\n",
    "import torch\n",
    "import fastai"
   ]
  },
  {
   "cell_type": "markdown",
   "metadata": {},
   "source": [
    "# The data\n",
    "We will start working with a sample from the IMDB sentiment classification dataset. The goal for now is to understand the dataset and prepare it for working with neural nets.\n"
   ]
  },
  {
   "cell_type": "code",
   "execution_count": 8,
   "metadata": {},
   "outputs": [
    {
     "data": {
      "text/plain": [
       "[PosixPath('/Users/dani/.fastai/data/imdb_sample/models'),\n",
       " PosixPath('/Users/dani/.fastai/data/imdb_sample/texts.csv')]"
      ]
     },
     "execution_count": 8,
     "metadata": {},
     "output_type": "execute_result"
    }
   ],
   "source": [
    "data_path = fastai.untar_data(fastai.URLs.IMDB_SAMPLE)\n",
    "data_path.ls()\n"
   ]
  },
  {
   "cell_type": "markdown",
   "metadata": {},
   "source": [
    "Let's load and see the data:"
   ]
  },
  {
   "cell_type": "code",
   "execution_count": 9,
   "metadata": {},
   "outputs": [
    {
     "data": {
      "text/html": [
       "<div>\n",
       "<style scoped>\n",
       "    .dataframe tbody tr th:only-of-type {\n",
       "        vertical-align: middle;\n",
       "    }\n",
       "\n",
       "    .dataframe tbody tr th {\n",
       "        vertical-align: top;\n",
       "    }\n",
       "\n",
       "    .dataframe thead th {\n",
       "        text-align: right;\n",
       "    }\n",
       "</style>\n",
       "<table border=\"1\" class=\"dataframe\">\n",
       "  <thead>\n",
       "    <tr style=\"text-align: right;\">\n",
       "      <th></th>\n",
       "      <th>label</th>\n",
       "      <th>text</th>\n",
       "      <th>is_valid</th>\n",
       "    </tr>\n",
       "  </thead>\n",
       "  <tbody>\n",
       "    <tr>\n",
       "      <th>0</th>\n",
       "      <td>negative</td>\n",
       "      <td>Un-bleeping-believable! Meg Ryan doesn't even ...</td>\n",
       "      <td>False</td>\n",
       "    </tr>\n",
       "    <tr>\n",
       "      <th>1</th>\n",
       "      <td>positive</td>\n",
       "      <td>This is a extremely well-made film. The acting...</td>\n",
       "      <td>False</td>\n",
       "    </tr>\n",
       "    <tr>\n",
       "      <th>2</th>\n",
       "      <td>negative</td>\n",
       "      <td>Every once in a long while a movie will come a...</td>\n",
       "      <td>False</td>\n",
       "    </tr>\n",
       "    <tr>\n",
       "      <th>3</th>\n",
       "      <td>positive</td>\n",
       "      <td>Name just says it all. I watched this movie wi...</td>\n",
       "      <td>False</td>\n",
       "    </tr>\n",
       "    <tr>\n",
       "      <th>4</th>\n",
       "      <td>negative</td>\n",
       "      <td>This movie succeeds at being one of the most u...</td>\n",
       "      <td>False</td>\n",
       "    </tr>\n",
       "  </tbody>\n",
       "</table>\n",
       "</div>"
      ],
      "text/plain": [
       "      label                                               text  is_valid\n",
       "0  negative  Un-bleeping-believable! Meg Ryan doesn't even ...     False\n",
       "1  positive  This is a extremely well-made film. The acting...     False\n",
       "2  negative  Every once in a long while a movie will come a...     False\n",
       "3  positive  Name just says it all. I watched this movie wi...     False\n",
       "4  negative  This movie succeeds at being one of the most u...     False"
      ]
     },
     "execution_count": 9,
     "metadata": {},
     "output_type": "execute_result"
    }
   ],
   "source": [
    "dataset = pd.read_csv(data_path/'texts.csv')\n",
    "dataset.head()"
   ]
  },
  {
   "cell_type": "markdown",
   "metadata": {},
   "source": [
    "Each row corresponds to one example: the sentiment `label`, input `text` and a special field added by the fastai guys to split the dataset for training and validation."
   ]
  },
  {
   "cell_type": "markdown",
   "metadata": {},
   "source": [
    "# Preparing the data\n",
    "Before feeding a neural net with text, we need to turn it into sequences of numbers.\n",
    "This can be done in many ways: an integer per word, char, subword, etc. \n",
    "Let's keep it simple for now and turn words into integer ids"
   ]
  },
  {
   "cell_type": "code",
   "execution_count": 17,
   "metadata": {},
   "outputs": [
    {
     "data": {
      "text/plain": [
       "\"Un-bleeping-believable! Meg Ryan doesn't even look her usual pert lovable self in this, which normally makes me forgive her shallow ticky acting schtick. Hard to believe she was the producer on this dog. Plus Kevin Kline: what kind of suicide trip has his career been on? Whoosh... Banzai!!! Finally this was directed by the guy who did Big Chill? Must be a replay of Jonestown - hollywood style. Wooofff!\""
      ]
     },
     "execution_count": 17,
     "metadata": {},
     "output_type": "execute_result"
    }
   ],
   "source": [
    "# Let's get the first example\n",
    "raw_text = dataset['text'][0]\n",
    "raw_text"
   ]
  },
  {
   "cell_type": "code",
   "execution_count": 18,
   "metadata": {},
   "outputs": [
    {
     "data": {
      "text/plain": [
       "['Un-bleeping-believable!',\n",
       " 'Meg',\n",
       " 'Ryan',\n",
       " \"doesn't\",\n",
       " 'even',\n",
       " 'look',\n",
       " 'her',\n",
       " 'usual',\n",
       " 'pert',\n",
       " 'lovable',\n",
       " 'self',\n",
       " 'in',\n",
       " 'this,',\n",
       " 'which',\n",
       " 'normally',\n",
       " 'makes',\n",
       " 'me',\n",
       " 'forgive',\n",
       " 'her',\n",
       " 'shallow',\n",
       " 'ticky',\n",
       " 'acting',\n",
       " 'schtick.',\n",
       " 'Hard',\n",
       " 'to',\n",
       " 'believe',\n",
       " 'she',\n",
       " 'was',\n",
       " 'the',\n",
       " 'producer',\n",
       " 'on',\n",
       " 'this',\n",
       " 'dog.',\n",
       " 'Plus',\n",
       " 'Kevin',\n",
       " 'Kline:',\n",
       " 'what',\n",
       " 'kind',\n",
       " 'of',\n",
       " 'suicide',\n",
       " 'trip',\n",
       " 'has',\n",
       " 'his',\n",
       " 'career',\n",
       " 'been',\n",
       " 'on?',\n",
       " 'Whoosh...',\n",
       " 'Banzai!!!',\n",
       " 'Finally',\n",
       " 'this',\n",
       " 'was',\n",
       " 'directed',\n",
       " 'by',\n",
       " 'the',\n",
       " 'guy',\n",
       " 'who',\n",
       " 'did',\n",
       " 'Big',\n",
       " 'Chill?',\n",
       " 'Must',\n",
       " 'be',\n",
       " 'a',\n",
       " 'replay',\n",
       " 'of',\n",
       " 'Jonestown',\n",
       " '-',\n",
       " 'hollywood',\n",
       " 'style.',\n",
       " 'Wooofff!']"
      ]
     },
     "execution_count": 18,
     "metadata": {},
     "output_type": "execute_result"
    }
   ],
   "source": [
    "# The simplest tokenization we can do is splitting by white-space\n",
    "tokens = raw_text.split(' ')\n",
    "tokens"
   ]
  },
  {
   "cell_type": "markdown",
   "metadata": {},
   "source": [
    "Ok, we have a list of words for the text. In order to turn it into integer ids, we need to build a map word -> id and viceversa (id -> word). This is what is called a vocabulary, and is an essential component of any deep learning NLP pipeline. Let's build our first vocabulary (just for this text sample):"
   ]
  },
  {
   "cell_type": "code",
   "execution_count": 23,
   "metadata": {},
   "outputs": [
    {
     "data": {
      "text/plain": [
       "{'-',\n",
       " 'Banzai!!!',\n",
       " 'Big',\n",
       " 'Chill?',\n",
       " 'Finally',\n",
       " 'Hard',\n",
       " 'Jonestown',\n",
       " 'Kevin',\n",
       " 'Kline:',\n",
       " 'Meg',\n",
       " 'Must',\n",
       " 'Plus',\n",
       " 'Ryan',\n",
       " 'Un-bleeping-believable!',\n",
       " 'Whoosh...',\n",
       " 'Wooofff!',\n",
       " 'a',\n",
       " 'acting',\n",
       " 'be',\n",
       " 'been',\n",
       " 'believe',\n",
       " 'by',\n",
       " 'career',\n",
       " 'did',\n",
       " 'directed',\n",
       " \"doesn't\",\n",
       " 'dog.',\n",
       " 'even',\n",
       " 'forgive',\n",
       " 'guy',\n",
       " 'has',\n",
       " 'her',\n",
       " 'his',\n",
       " 'hollywood',\n",
       " 'in',\n",
       " 'kind',\n",
       " 'look',\n",
       " 'lovable',\n",
       " 'makes',\n",
       " 'me',\n",
       " 'normally',\n",
       " 'of',\n",
       " 'on',\n",
       " 'on?',\n",
       " 'pert',\n",
       " 'producer',\n",
       " 'replay',\n",
       " 'schtick.',\n",
       " 'self',\n",
       " 'shallow',\n",
       " 'she',\n",
       " 'style.',\n",
       " 'suicide',\n",
       " 'the',\n",
       " 'this',\n",
       " 'this,',\n",
       " 'ticky',\n",
       " 'to',\n",
       " 'trip',\n",
       " 'usual',\n",
       " 'was',\n",
       " 'what',\n",
       " 'which',\n",
       " 'who'}"
      ]
     },
     "execution_count": 23,
     "metadata": {},
     "output_type": "execute_result"
    }
   ],
   "source": [
    "unique_tokens = set(tokens) # remove repeated tokens \n",
    "unique_tokens"
   ]
  },
  {
   "cell_type": "code",
   "execution_count": 34,
   "metadata": {},
   "outputs": [
    {
     "data": {
      "text/plain": [
       "49"
      ]
     },
     "execution_count": 34,
     "metadata": {},
     "output_type": "execute_result"
    }
   ],
   "source": [
    "word_to_id= {word: i for i, word in enumerate(tokens)} # turns words into ids\n",
    "this_id = word_to_idx['this']\n",
    "this_id"
   ]
  },
  {
   "cell_type": "code",
   "execution_count": 36,
   "metadata": {},
   "outputs": [
    {
     "data": {
      "text/plain": [
       "'this'"
      ]
     },
     "execution_count": 36,
     "metadata": {},
     "output_type": "execute_result"
    }
   ],
   "source": [
    "id_to_word = {i: word for i, word in enumerate(tokens)} # turns ids into words\n",
    "id_to_word[this_id]"
   ]
  },
  {
   "cell_type": "markdown",
   "metadata": {},
   "source": [
    "Now we can use our 'vocab' to turn our text into a sequence of numbers:"
   ]
  },
  {
   "cell_type": "code",
   "execution_count": 41,
   "metadata": {},
   "outputs": [
    {
     "data": {
      "text/plain": [
       "[0,\n",
       " 1,\n",
       " 2,\n",
       " 3,\n",
       " 4,\n",
       " 5,\n",
       " 18,\n",
       " 7,\n",
       " 8,\n",
       " 9,\n",
       " 10,\n",
       " 11,\n",
       " 12,\n",
       " 13,\n",
       " 14,\n",
       " 15,\n",
       " 16,\n",
       " 17,\n",
       " 18,\n",
       " 19,\n",
       " 20,\n",
       " 21,\n",
       " 22,\n",
       " 23,\n",
       " 24,\n",
       " 25,\n",
       " 26,\n",
       " 50,\n",
       " 53,\n",
       " 29,\n",
       " 30,\n",
       " 49,\n",
       " 32,\n",
       " 33,\n",
       " 34,\n",
       " 35,\n",
       " 36,\n",
       " 37,\n",
       " 63,\n",
       " 39,\n",
       " 40,\n",
       " 41,\n",
       " 42,\n",
       " 43,\n",
       " 44,\n",
       " 45,\n",
       " 46,\n",
       " 47,\n",
       " 48,\n",
       " 49,\n",
       " 50,\n",
       " 51,\n",
       " 52,\n",
       " 53,\n",
       " 54,\n",
       " 55,\n",
       " 56,\n",
       " 57,\n",
       " 58,\n",
       " 59,\n",
       " 60,\n",
       " 61,\n",
       " 62,\n",
       " 63,\n",
       " 64,\n",
       " 65,\n",
       " 66,\n",
       " 67,\n",
       " 68]"
      ]
     },
     "execution_count": 41,
     "metadata": {},
     "output_type": "execute_result"
    }
   ],
   "source": [
    "numericalized_tokens = [word_to_id[w] for w in tokens]\n",
    "numericalized_tokens"
   ]
  },
  {
   "cell_type": "code",
   "execution_count": 42,
   "metadata": {},
   "outputs": [],
   "source": [
    "# Now let's build a vocab for the whole dataset\n",
    "all_tokens = []"
   ]
  },
  {
   "cell_type": "code",
   "execution_count": 46,
   "metadata": {},
   "outputs": [
    {
     "data": {
      "text/plain": [
       "['relatively',\n",
       " 'cheery.',\n",
       " 'There',\n",
       " 'are',\n",
       " 'no',\n",
       " 'really',\n",
       " 'superstars',\n",
       " 'in',\n",
       " 'the',\n",
       " 'cast,']"
      ]
     },
     "execution_count": 46,
     "metadata": {},
     "output_type": "execute_result"
    }
   ],
   "source": [
    "for text in dataset['text']:\n",
    "    all_tokens.extend(text.split(' '))\n",
    "all_tokens[100:110]"
   ]
  },
  {
   "cell_type": "code",
   "execution_count": 47,
   "metadata": {},
   "outputs": [
    {
     "data": {
      "text/plain": [
       "743391"
      ]
     },
     "execution_count": 47,
     "metadata": {},
     "output_type": "execute_result"
    }
   ],
   "source": [
    "len(all_tokens)"
   ]
  },
  {
   "cell_type": "code",
   "execution_count": 49,
   "metadata": {},
   "outputs": [
    {
     "data": {
      "text/plain": [
       "36462"
      ]
     },
     "execution_count": 49,
     "metadata": {},
     "output_type": "execute_result"
    }
   ],
   "source": [
    "unique_all_tokens = set(all_tokens)\n",
    "# Get the size of our vocab\n",
    "len(unique_all_tokens)"
   ]
  },
  {
   "cell_type": "code",
   "execution_count": 53,
   "metadata": {},
   "outputs": [],
   "source": [
    "# Build the vocab\n",
    "word_to_id = {word: i for i, word in enumerate(unique_all_tokens)}\n",
    "id_to_word = {i: word for i, word in enumerate(unique_all_tokens)}\n",
    "john_id = word_to_id['John']"
   ]
  },
  {
   "cell_type": "code",
   "execution_count": 59,
   "metadata": {},
   "outputs": [
    {
     "data": {
      "text/plain": [
       "'lingering'"
      ]
     },
     "execution_count": 59,
     "metadata": {},
     "output_type": "execute_result"
    }
   ],
   "source": [
    "id_to_word[john_id+1] # next word in the vocab"
   ]
  },
  {
   "cell_type": "markdown",
   "metadata": {},
   "source": [
    "Now we have a really simple vocab for numericalizing our training/validation data."
   ]
  },
  {
   "cell_type": "markdown",
   "metadata": {},
   "source": [
    "# Turning words into vectors\n",
    "We have now ids for every word. Almost every neural net for NLP uses this integer ids to get a vector for the word (or character, or..) in the first layer. This is what is know a the Embedding layer. The embedding layer is basically a lookup table of size Vxd, where V is the size of the vocab and d the dimension of the embedding vector. Let's see how this works:\n"
   ]
  },
  {
   "cell_type": "code",
   "execution_count": 61,
   "metadata": {},
   "outputs": [
    {
     "data": {
      "text/plain": [
       "Embedding(36462, 50)"
      ]
     },
     "execution_count": 61,
     "metadata": {},
     "output_type": "execute_result"
    }
   ],
   "source": [
    "import torch\n",
    "from torch.nn.modules import Embedding\n",
    "vocab_size = len(word_to_id)\n",
    "emb_dim = 50 \n",
    "embedding_layer = Embedding(vocab_size, emb_dim)\n",
    "embedding_layer\n"
   ]
  },
  {
   "cell_type": "code",
   "execution_count": 70,
   "metadata": {},
   "outputs": [
    {
     "data": {
      "text/plain": [
       "tensor([-0.3850, -0.5787,  0.7424,  0.1339, -0.1917,  0.3614, -0.7191,  0.4496,\n",
       "        -0.6583, -0.1638,  1.1447, -0.1735,  2.1880, -1.7839,  0.8560, -0.2002,\n",
       "        -1.4404,  1.6758,  0.2755, -0.6098, -2.2459,  1.6085,  1.6329, -0.4918,\n",
       "         0.0097, -2.4239,  0.9176,  1.5877,  0.8225,  0.8477,  0.6123,  0.6060,\n",
       "         1.1446,  0.4422,  1.3977,  1.4591, -1.2798,  1.2375, -0.9987, -1.5003,\n",
       "        -1.3405, -2.1017, -0.4779, -0.6793,  0.1321, -0.4403, -0.5138,  0.4170,\n",
       "        -0.6814, -0.4919], grad_fn=<EmbeddingBackward>)"
      ]
     },
     "execution_count": 70,
     "metadata": {},
     "output_type": "execute_result"
    }
   ],
   "source": [
    "# Let's get the vector for our first word\n",
    "v_0 = embedding_layer(torch.tensor(0)) # The network only understands torch.tensor objects\n",
    "v_0"
   ]
  },
  {
   "cell_type": "code",
   "execution_count": 76,
   "metadata": {},
   "outputs": [
    {
     "data": {
      "text/plain": [
       "('text of length 69 tokens',\n",
       " [2208,\n",
       "  30483,\n",
       "  18175,\n",
       "  24362,\n",
       "  22588,\n",
       "  11295,\n",
       "  31186,\n",
       "  15496,\n",
       "  29227,\n",
       "  4232,\n",
       "  16973,\n",
       "  28194,\n",
       "  12297,\n",
       "  6063,\n",
       "  14246,\n",
       "  2856,\n",
       "  29999,\n",
       "  23056,\n",
       "  31186,\n",
       "  15063,\n",
       "  4932,\n",
       "  17484,\n",
       "  4822,\n",
       "  21957,\n",
       "  17282,\n",
       "  32531,\n",
       "  28989,\n",
       "  8554,\n",
       "  1886,\n",
       "  15482,\n",
       "  29042,\n",
       "  26219,\n",
       "  7010,\n",
       "  26343,\n",
       "  33113,\n",
       "  19499,\n",
       "  25225,\n",
       "  19757,\n",
       "  29308,\n",
       "  9386,\n",
       "  25803,\n",
       "  18325,\n",
       "  678,\n",
       "  27816,\n",
       "  18676,\n",
       "  9198,\n",
       "  30989,\n",
       "  2892,\n",
       "  2370,\n",
       "  26219,\n",
       "  8554,\n",
       "  16123,\n",
       "  10256,\n",
       "  1886,\n",
       "  32002,\n",
       "  29390,\n",
       "  21029,\n",
       "  17212,\n",
       "  4351,\n",
       "  13757,\n",
       "  8564,\n",
       "  9114,\n",
       "  30043,\n",
       "  29308,\n",
       "  13593,\n",
       "  26959,\n",
       "  219,\n",
       "  20330,\n",
       "  34417],\n",
       " ['Un-bleeping-believable!',\n",
       "  'Meg',\n",
       "  'Ryan',\n",
       "  \"doesn't\",\n",
       "  'even',\n",
       "  'look',\n",
       "  'her',\n",
       "  'usual',\n",
       "  'pert',\n",
       "  'lovable',\n",
       "  'self',\n",
       "  'in',\n",
       "  'this,',\n",
       "  'which',\n",
       "  'normally',\n",
       "  'makes',\n",
       "  'me',\n",
       "  'forgive',\n",
       "  'her',\n",
       "  'shallow',\n",
       "  'ticky',\n",
       "  'acting',\n",
       "  'schtick.',\n",
       "  'Hard',\n",
       "  'to',\n",
       "  'believe',\n",
       "  'she',\n",
       "  'was',\n",
       "  'the',\n",
       "  'producer',\n",
       "  'on',\n",
       "  'this',\n",
       "  'dog.',\n",
       "  'Plus',\n",
       "  'Kevin',\n",
       "  'Kline:',\n",
       "  'what',\n",
       "  'kind',\n",
       "  'of',\n",
       "  'suicide',\n",
       "  'trip',\n",
       "  'has',\n",
       "  'his',\n",
       "  'career',\n",
       "  'been',\n",
       "  'on?',\n",
       "  'Whoosh...',\n",
       "  'Banzai!!!',\n",
       "  'Finally',\n",
       "  'this',\n",
       "  'was',\n",
       "  'directed',\n",
       "  'by',\n",
       "  'the',\n",
       "  'guy',\n",
       "  'who',\n",
       "  'did',\n",
       "  'Big',\n",
       "  'Chill?',\n",
       "  'Must',\n",
       "  'be',\n",
       "  'a',\n",
       "  'replay',\n",
       "  'of',\n",
       "  'Jonestown',\n",
       "  '-',\n",
       "  'hollywood',\n",
       "  'style.',\n",
       "  'Wooofff!'])"
      ]
     },
     "execution_count": 76,
     "metadata": {},
     "output_type": "execute_result"
    }
   ],
   "source": [
    "# Now let's try with our first full example\n",
    "tokens = dataset['text'][0].split(' ')\n",
    "numericalized_example = [word_to_id[w] for w in tokens]\n",
    "'text of length {} tokens'.format(len(numericalized_example)), numericalized_example, tokens"
   ]
  },
  {
   "cell_type": "code",
   "execution_count": 77,
   "metadata": {},
   "outputs": [
    {
     "data": {
      "text/plain": [
       "tensor([[ 1.2027, -0.2946,  0.8443,  ...,  1.4954, -1.4349, -0.2545],\n",
       "        [-0.8398,  0.0350, -0.9193,  ..., -0.7567, -0.6925, -0.3173],\n",
       "        [-0.5739, -1.7067, -2.0933,  ...,  0.9647, -0.6415,  0.4665],\n",
       "        ...,\n",
       "        [-2.4109,  2.4399, -0.3522,  ..., -0.1244,  0.7360, -0.3778],\n",
       "        [ 0.3791, -0.5356,  1.3328,  ...,  0.9829,  0.8671, -0.1291],\n",
       "        [ 0.5168,  0.9240, -1.0961,  ..., -0.0199, -0.2333,  0.9682]],\n",
       "       grad_fn=<EmbeddingBackward>)"
      ]
     },
     "execution_count": 77,
     "metadata": {},
     "output_type": "execute_result"
    }
   ],
   "source": [
    "v_example = embedding_layer(torch.tensor(numericalized_example))\n",
    "v_example # A matrix of the vectors corresponding to each of the 69 tokens"
   ]
  },
  {
   "cell_type": "code",
   "execution_count": 78,
   "metadata": {},
   "outputs": [
    {
     "data": {
      "text/plain": [
       "tensor([ 1.2027, -0.2946,  0.8443, -0.6528,  0.1477, -1.2029,  0.4607, -1.2531,\n",
       "        -0.1346, -0.6594,  0.7075,  0.1972,  1.1120, -0.0413, -2.2882,  0.4343,\n",
       "         2.0869, -0.9942,  0.6648,  0.2084, -0.0663,  0.7633, -0.9001,  0.9449,\n",
       "        -0.8934, -0.0338,  0.5865,  2.1943,  0.8381,  1.1049, -0.0109,  0.2139,\n",
       "         0.1015, -1.6645, -0.4943, -0.5859, -1.4801, -2.3506, -1.6687, -0.3140,\n",
       "         0.0878,  1.1838,  1.1238, -1.4592, -2.0059, -0.1387,  0.4990,  1.4954,\n",
       "        -1.4349, -0.2545], grad_fn=<SelectBackward>)"
      ]
     },
     "execution_count": 78,
     "metadata": {},
     "output_type": "execute_result"
    }
   ],
   "source": [
    "v_example[0] # the embedding vector of the first token"
   ]
  },
  {
   "cell_type": "markdown",
   "metadata": {},
   "source": [
    "Good job! Now we have turn text into 'dense' real-valued vectors! \n",
    "Now, let's try to generalize this a little bit.\n",
    "\n",
    "But first, let's try our vocab on text outside the IMDB sample dataset.\n"
   ]
  },
  {
   "cell_type": "code",
   "execution_count": 79,
   "metadata": {},
   "outputs": [
    {
     "ename": "KeyError",
     "evalue": "'Climax'",
     "output_type": "error",
     "traceback": [
      "\u001b[0;31m---------------------------------------------------------------------------\u001b[0m",
      "\u001b[0;31mKeyError\u001b[0m                                  Traceback (most recent call last)",
      "\u001b[0;32m<ipython-input-79-9f3c6cd05809>\u001b[0m in \u001b[0;36m<module>\u001b[0;34m\u001b[0m\n\u001b[1;32m      1\u001b[0m \u001b[0mmy_movie_review_text\u001b[0m \u001b[0;34m=\u001b[0m \u001b[0;34m'Climax from Gaspar Noé is a shockingly beatiful movie'\u001b[0m\u001b[0;34m.\u001b[0m\u001b[0msplit\u001b[0m\u001b[0;34m(\u001b[0m\u001b[0;34m' '\u001b[0m\u001b[0;34m)\u001b[0m\u001b[0;34m\u001b[0m\u001b[0m\n\u001b[0;32m----> 2\u001b[0;31m \u001b[0mnumericalized_movie_review\u001b[0m \u001b[0;34m=\u001b[0m \u001b[0;34m[\u001b[0m\u001b[0mword_to_id\u001b[0m\u001b[0;34m[\u001b[0m\u001b[0mw\u001b[0m\u001b[0;34m]\u001b[0m \u001b[0;32mfor\u001b[0m \u001b[0mw\u001b[0m \u001b[0;32min\u001b[0m \u001b[0mmy_movie_review_text\u001b[0m\u001b[0;34m]\u001b[0m\u001b[0;34m\u001b[0m\u001b[0m\n\u001b[0m",
      "\u001b[0;32m<ipython-input-79-9f3c6cd05809>\u001b[0m in \u001b[0;36m<listcomp>\u001b[0;34m(.0)\u001b[0m\n\u001b[1;32m      1\u001b[0m \u001b[0mmy_movie_review_text\u001b[0m \u001b[0;34m=\u001b[0m \u001b[0;34m'Climax from Gaspar Noé is a shockingly beatiful movie'\u001b[0m\u001b[0;34m.\u001b[0m\u001b[0msplit\u001b[0m\u001b[0;34m(\u001b[0m\u001b[0;34m' '\u001b[0m\u001b[0;34m)\u001b[0m\u001b[0;34m\u001b[0m\u001b[0m\n\u001b[0;32m----> 2\u001b[0;31m \u001b[0mnumericalized_movie_review\u001b[0m \u001b[0;34m=\u001b[0m \u001b[0;34m[\u001b[0m\u001b[0mword_to_id\u001b[0m\u001b[0;34m[\u001b[0m\u001b[0mw\u001b[0m\u001b[0;34m]\u001b[0m \u001b[0;32mfor\u001b[0m \u001b[0mw\u001b[0m \u001b[0;32min\u001b[0m \u001b[0mmy_movie_review_text\u001b[0m\u001b[0;34m]\u001b[0m\u001b[0;34m\u001b[0m\u001b[0m\n\u001b[0m",
      "\u001b[0;31mKeyError\u001b[0m: 'Climax'"
     ]
    }
   ],
   "source": [
    "my_movie_review_text = 'Climax from Gaspar Noé is a shockingly beatiful movie'.split(' ')\n",
    "numericalized_movie_review = [word_to_id[w] for w in my_movie_review_text]"
   ]
  },
  {
   "cell_type": "markdown",
   "metadata": {},
   "source": [
    "What happened?\n",
    "\n",
    "'Climax' is what it's called an out of vocabulary word (or oov, unk..). This is an important thing to deal with when working with supervised learning for NLP, as our model is expected to work with text not seen during training, validation or test. The simplest way to deal with this is to add a special token to our vocabulary which will be assigned to every unknown word. \n",
    "\n",
    "But for this let's generalize a little bit our vocabulary functionality.\n",
    "\n"
   ]
  },
  {
   "cell_type": "code",
   "execution_count": 178,
   "metadata": {},
   "outputs": [
    {
     "data": {
      "text/plain": [
       "1"
      ]
     },
     "execution_count": 178,
     "metadata": {},
     "output_type": "execute_result"
    }
   ],
   "source": [
    "class Vocab:\n",
    "    def __init__(self, unk_symbol='<unk>', is_label=False):\n",
    "        self.size = 1\n",
    "        self.word_to_id = {}\n",
    "        self.id_to_word = {}\n",
    "        # you will understand this later\n",
    "        if not is_label:\n",
    "            self.unk_symbol = unk_symbol\n",
    "            self.unk_id = self.add_word(unk_symbol)\n",
    "    def add_word(self, w):\n",
    "        if w not in self.word_to_id:\n",
    "            self.word_to_id[w] = self.size\n",
    "            self.id_to_word[self.size] = w\n",
    "            self.size += 1\n",
    "        return self.size - 1\n",
    "    def to_id(self, w):\n",
    "       return self.word_to_id[w] if w in self.word_to_id else self.unk_id\n",
    "    def to_word(self, id):\n",
    "       return self.id_to_word[id] if id in self.id_to_word else self.unk_symbol  \n",
    "    def __len__(self):\n",
    "        return self.size\n",
    "vocab = Vocab()\n",
    "vocab.to_id('Climax')"
   ]
  },
  {
   "cell_type": "code",
   "execution_count": 155,
   "metadata": {},
   "outputs": [
    {
     "data": {
      "text/plain": [
       "2"
      ]
     },
     "execution_count": 155,
     "metadata": {},
     "output_type": "execute_result"
    }
   ],
   "source": [
    "len(vocab)"
   ]
  },
  {
   "cell_type": "code",
   "execution_count": 156,
   "metadata": {},
   "outputs": [
    {
     "data": {
      "text/plain": [
       "2"
      ]
     },
     "execution_count": 156,
     "metadata": {},
     "output_type": "execute_result"
    }
   ],
   "source": [
    "vocab.add_word('Climax')"
   ]
  },
  {
   "cell_type": "code",
   "execution_count": 157,
   "metadata": {},
   "outputs": [
    {
     "data": {
      "text/plain": [
       "36464"
      ]
     },
     "execution_count": 157,
     "metadata": {},
     "output_type": "execute_result"
    }
   ],
   "source": [
    "# Now, let's try to build the vocab for the full dataset\n",
    "full_vocab = Vocab()\n",
    "for text in dataset['text']:\n",
    "    for w in text.split(' '):\n",
    "        full_vocab.add_word(w)\n",
    "len(full_vocab) # We should get our previous lenght + 1 (for the unk token) = 36463\n",
    "    "
   ]
  },
  {
   "cell_type": "code",
   "execution_count": 164,
   "metadata": {},
   "outputs": [
    {
     "data": {
      "text/plain": [
       "['Climax',\n",
       " 'from',\n",
       " 'Gaspar',\n",
       " 'Noé',\n",
       " 'is',\n",
       " 'a',\n",
       " 'shockingly',\n",
       " 'beatiful',\n",
       " 'movie']"
      ]
     },
     "execution_count": 164,
     "metadata": {},
     "output_type": "execute_result"
    }
   ],
   "source": [
    "# Finally let's try on our previous unseen example\n",
    "my_movie_review_text"
   ]
  },
  {
   "cell_type": "code",
   "execution_count": 165,
   "metadata": {},
   "outputs": [
    {
     "data": {
      "text/plain": [
       "[1, 283, 1, 1, 67, 59, 25417, 1, 270]"
      ]
     },
     "execution_count": 165,
     "metadata": {},
     "output_type": "execute_result"
    }
   ],
   "source": [
    "numericalized_movie_review = [full_vocab.to_id(w) for w in my_movie_review_text]\n",
    "numericalized_movie_review"
   ]
  },
  {
   "cell_type": "code",
   "execution_count": 166,
   "metadata": {},
   "outputs": [
    {
     "data": {
      "text/plain": [
       "['<unk>', 'from', '<unk>', '<unk>', 'is', 'a', 'shockingly', '<unk>', 'movie']"
      ]
     },
     "execution_count": 166,
     "metadata": {},
     "output_type": "execute_result"
    }
   ],
   "source": [
    "numericalized_movie_review\n",
    "[full_vocab.to_word(i) for i in numericalized_movie_review]"
   ]
  },
  {
   "cell_type": "code",
   "execution_count": 167,
   "metadata": {},
   "outputs": [
    {
     "data": {
      "text/plain": [
       "[1, 283, 1, 1, 67, 59, 25417, 1535, 270]"
      ]
     },
     "execution_count": 167,
     "metadata": {},
     "output_type": "execute_result"
    }
   ],
   "source": [
    "# We got three unknown words, one of them a misspeling of beautiful\n",
    "# Lets try with the right spelling\n",
    "my_movie_review_text = 'Climax from Gaspar Noé is a shockingly beautiful movie'.split(' ')\n",
    "numericalized_movie_review = [full_vocab.to_id(w) for w in my_movie_review_text]\n",
    "numericalized_movie_review"
   ]
  },
  {
   "cell_type": "code",
   "execution_count": 168,
   "metadata": {},
   "outputs": [
    {
     "data": {
      "text/plain": [
       "'beautiful'"
      ]
     },
     "execution_count": 168,
     "metadata": {},
     "output_type": "execute_result"
    }
   ],
   "source": [
    "full_vocab.to_word(1535)"
   ]
  },
  {
   "cell_type": "markdown",
   "metadata": {},
   "source": [
    "Now we have a working Vocab functionality with a simple tokenization mechanism (split by empty spaces), but what if we wanted a more general tokenizer with functions such as lowercasing, normalization, etc.?\n",
    "\n",
    "Let's try to generalize this a little"
   ]
  },
  {
   "cell_type": "code",
   "execution_count": 173,
   "metadata": {},
   "outputs": [],
   "source": [
    "class Tokenizer:\n",
    "    def __init__(self, lowercase=False):\n",
    "        self.lowercase = lowercase\n",
    "    def __call__(self, text):\n",
    "        return [w.lower() if self.lowercase else w for w in text.split(' ')]\n",
    "my_tokenizer = Tokenizer(lowercase=True)\n",
    "        "
   ]
  },
  {
   "cell_type": "code",
   "execution_count": 174,
   "metadata": {},
   "outputs": [
    {
     "data": {
      "text/plain": [
       "['climax', 'is', 'a', 'horrible', 'movie', 'with', 'nice', 'music']"
      ]
     },
     "execution_count": 174,
     "metadata": {},
     "output_type": "execute_result"
    }
   ],
   "source": [
    "my_tokenizer('Climax is a horrible movie with nice music')"
   ]
  },
  {
   "cell_type": "markdown",
   "metadata": {},
   "source": [
    "## Exercise 1\n",
    "Now please build a new vocab by tokenizing the full dataset with lowercased words:"
   ]
  },
  {
   "cell_type": "code",
   "execution_count": 176,
   "metadata": {},
   "outputs": [
    {
     "data": {
      "text/plain": [
       "33877"
      ]
     },
     "execution_count": 176,
     "metadata": {},
     "output_type": "execute_result"
    }
   ],
   "source": [
    "# Now, let's try to build the vocab for the full dataset\n",
    "lowercased_vocab = Vocab()\n",
    "for text in dataset['text']:\n",
    "    # your code here\n",
    "len(lowercased_vocab) # We should get a smaller vocab"
   ]
  },
  {
   "cell_type": "markdown",
   "metadata": {},
   "source": [
    "## Exercise 2\n",
    "We have been focusing on text, but what about labels? Labels are frequently also text, like in our case, where we have `positive`and `negative`. Neural nets don't understand text, so what should we do? We need to turn them into numbers. Good news is that we can reuse our previous vocab to do this!\n",
    "\n",
    "Please create the vocab for labels. In this case we do not want the vocab to contain an unkwnow label, so we will use the is_label parameter"
   ]
  },
  {
   "cell_type": "code",
   "execution_count": 183,
   "metadata": {},
   "outputs": [
    {
     "data": {
      "text/plain": [
       "{'negative': 1, 'positive': 2}"
      ]
     },
     "execution_count": 183,
     "metadata": {},
     "output_type": "execute_result"
    }
   ],
   "source": [
    "labels_vocab = Vocab(is_label=True)\n",
    "# Create the labels vocab\n",
    "for label in dataset['label']:\n",
    "    labels_vocab.add_word(label)\n",
    "labels_vocab.word_to_id"
   ]
  },
  {
   "cell_type": "code",
   "execution_count": null,
   "metadata": {},
   "outputs": [],
   "source": []
  }
 ],
 "metadata": {
  "kernelspec": {
   "display_name": "Python 3",
   "language": "python",
   "name": "python3"
  },
  "language_info": {
   "codemirror_mode": {
    "name": "ipython",
    "version": 3
   },
   "file_extension": ".py",
   "mimetype": "text/x-python",
   "name": "python",
   "nbconvert_exporter": "python",
   "pygments_lexer": "ipython3",
   "version": "3.6.5"
  }
 },
 "nbformat": 4,
 "nbformat_minor": 2
}
