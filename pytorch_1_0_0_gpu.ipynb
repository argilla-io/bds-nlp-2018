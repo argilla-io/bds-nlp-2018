{
  "nbformat": 4,
  "nbformat_minor": 0,
  "metadata": {
    "colab": {
      "name": "pytorch.1.0.0.gpu.ipynb",
      "version": "0.3.2",
      "provenance": [],
      "include_colab_link": true
    },
    "kernelspec": {
      "name": "python3",
      "display_name": "Python 3"
    },
    "accelerator": "GPU"
  },
  "cells": [
    {
      "cell_type": "markdown",
      "metadata": {
        "id": "view-in-github",
        "colab_type": "text"
      },
      "source": [
        "<a href=\"https://colab.research.google.com/github/recognai/bds-nlp-2018/blob/master/pytorch_1_0_0_gpu.ipynb\" target=\"_parent\"><img src=\"https://colab.research.google.com/assets/colab-badge.svg\" alt=\"Open In Colab\"/></a>"
      ]
    },
    {
      "metadata": {
        "id": "CTYKuiF66Tgb",
        "colab_type": "code",
        "outputId": "2f9b13a3-ddd6-4a60-c485-5d25272fff76",
        "colab": {
          "base_uri": "https://localhost:8080/",
          "height": 159
        }
      },
      "cell_type": "code",
      "source": [
        "# http://pytorch.org/\n",
        "from os.path import exists\n",
        "from wheel.pep425tags import get_abbr_impl, get_impl_ver, get_abi_tag\n",
        "platform = '{}{}-{}'.format(get_abbr_impl(), get_impl_ver(), get_abi_tag())\n",
        "cuda_output = !ldconfig -p|grep cudart.so|sed -e 's/.*\\.\\([0-9]*\\)\\.\\([0-9]*\\)$/cu\\1\\2/'\n",
        "accelerator = cuda_output[0] if exists('/dev/nvidia0') else 'cpu'\n",
        "!pip install torch_nightly -f https://download.pytorch.org/whl/nightly/{accelerator}/torch_nightly.html\n",
        "  \n",
        "import torch"
      ],
      "execution_count": 1,
      "outputs": [
        {
          "output_type": "stream",
          "text": [
            "Looking in links: https://download.pytorch.org/whl/nightly/cu92/torch_nightly.html\n",
            "Collecting torch_nightly\n",
            "\u001b[?25l  Downloading https://download.pytorch.org/whl/nightly/cu92/torch_nightly-1.0.0.dev20181108-cp36-cp36m-linux_x86_64.whl (589.3MB)\n",
            "\u001b[K    100% |████████████████████████████████| 589.3MB 28kB/s \n",
            "tcmalloc: large alloc 1073750016 bytes == 0x622f4000 @  0x7f27a393f2a4 0x594e17 0x626104 0x51190a 0x4f5277 0x510c78 0x5119bd 0x4f5277 0x4f3338 0x510fb0 0x5119bd 0x4f5277 0x4f3338 0x510fb0 0x5119bd 0x4f5277 0x4f3338 0x510fb0 0x5119bd 0x4f6070 0x510c78 0x5119bd 0x4f5277 0x4f3338 0x510fb0 0x5119bd 0x4f6070 0x4f3338 0x510fb0 0x5119bd 0x4f6070\n",
            "\u001b[?25hInstalling collected packages: torch-nightly\n",
            "Successfully installed torch-nightly-1.0.0.dev20181108\n"
          ],
          "name": "stdout"
        }
      ]
    },
    {
      "metadata": {
        "id": "9AOJ3ZDA6Vdl",
        "colab_type": "code",
        "outputId": "37913617-2894-4ecd-fa26-0e438503aea2",
        "colab": {
          "base_uri": "https://localhost:8080/",
          "height": 69
        }
      },
      "cell_type": "code",
      "source": [
        "print(torch.__version__)\n",
        "print(torch.cuda.is_available())\n",
        "print(torch.backends.cudnn.enabled)"
      ],
      "execution_count": 2,
      "outputs": [
        {
          "output_type": "stream",
          "text": [
            "1.0.0.dev20181108\n",
            "True\n",
            "True\n"
          ],
          "name": "stdout"
        }
      ]
    },
    {
      "metadata": {
        "id": "buNwaflD9Oq0",
        "colab_type": "text"
      },
      "cell_type": "markdown",
      "source": [
        "# Tensors\n",
        "\n",
        "The main data structure for computing things in Pytorch are tensors.\n",
        "\n",
        "Let's create some tensors with different shapes."
      ]
    },
    {
      "metadata": {
        "id": "oYavmFHK6fQe",
        "colab_type": "code",
        "colab": {
          "base_uri": "https://localhost:8080/",
          "height": 34
        },
        "outputId": "42bc995c-bfc5-4ac8-a9b6-c8313658de30"
      },
      "cell_type": "code",
      "source": [
        "# Vector 1D 3\n",
        "data = [1., 2., 3.]\n",
        "v = torch.tensor(data)\n",
        "v"
      ],
      "execution_count": 20,
      "outputs": [
        {
          "output_type": "execute_result",
          "data": {
            "text/plain": [
              "tensor([1., 2., 3.])"
            ]
          },
          "metadata": {
            "tags": []
          },
          "execution_count": 20
        }
      ]
    },
    {
      "metadata": {
        "id": "7dlOSPZp71NW",
        "colab_type": "code",
        "colab": {
          "base_uri": "https://localhost:8080/",
          "height": 34
        },
        "outputId": "27dac7b6-776b-434c-d1c5-2872fdc4a10e"
      },
      "cell_type": "code",
      "source": [
        "# Tensors have a shape, this is our vector shape\n",
        "v.shape"
      ],
      "execution_count": 22,
      "outputs": [
        {
          "output_type": "execute_result",
          "data": {
            "text/plain": [
              "torch.Size([3])"
            ]
          },
          "metadata": {
            "tags": []
          },
          "execution_count": 22
        }
      ]
    },
    {
      "metadata": {
        "id": "RfZ3HCMo9p3a",
        "colab_type": "code",
        "colab": {
          "base_uri": "https://localhost:8080/",
          "height": 52
        },
        "outputId": "d7531a30-c69d-4e30-a818-50481d78103c"
      },
      "cell_type": "code",
      "source": [
        "# Matrix 2D 2x3\n",
        "m_data = [data, data]\n",
        "m = torch.tensor(m_data)\n",
        "m"
      ],
      "execution_count": 7,
      "outputs": [
        {
          "output_type": "execute_result",
          "data": {
            "text/plain": [
              "tensor([[1., 2., 3.],\n",
              "        [1., 2., 3.]])"
            ]
          },
          "metadata": {
            "tags": []
          },
          "execution_count": 7
        }
      ]
    },
    {
      "metadata": {
        "id": "ANgijPPm97-A",
        "colab_type": "code",
        "colab": {
          "base_uri": "https://localhost:8080/",
          "height": 34
        },
        "outputId": "63870c5f-4a4a-436e-ac15-01247cbd370d"
      },
      "cell_type": "code",
      "source": [
        "# Matrix shape\n",
        "m.shape"
      ],
      "execution_count": 8,
      "outputs": [
        {
          "output_type": "execute_result",
          "data": {
            "text/plain": [
              "torch.Size([2, 3])"
            ]
          },
          "metadata": {
            "tags": []
          },
          "execution_count": 8
        }
      ]
    },
    {
      "metadata": {
        "id": "EMTF1d4W9_4j",
        "colab_type": "code",
        "colab": {
          "base_uri": "https://localhost:8080/",
          "height": 104
        },
        "outputId": "b24bf147-94aa-4cc7-bbbd-e7b4a1b283ee"
      },
      "cell_type": "code",
      "source": [
        "# Tensor 3D 2x2x3\n",
        "t_data = [[data, data], [data, data]]\n",
        "t = torch.tensor(t_data)\n",
        "t"
      ],
      "execution_count": 13,
      "outputs": [
        {
          "output_type": "execute_result",
          "data": {
            "text/plain": [
              "tensor([[[1., 2., 3.],\n",
              "         [1., 2., 3.]],\n",
              "\n",
              "        [[1., 2., 3.],\n",
              "         [1., 2., 3.]]])"
            ]
          },
          "metadata": {
            "tags": []
          },
          "execution_count": 13
        }
      ]
    },
    {
      "metadata": {
        "id": "925w4YHu-DMK",
        "colab_type": "code",
        "colab": {
          "base_uri": "https://localhost:8080/",
          "height": 34
        },
        "outputId": "291d1853-8f18-4842-d6b4-1a327c141e67"
      },
      "cell_type": "code",
      "source": [
        "t.shape"
      ],
      "execution_count": 14,
      "outputs": [
        {
          "output_type": "execute_result",
          "data": {
            "text/plain": [
              "torch.Size([2, 2, 3])"
            ]
          },
          "metadata": {
            "tags": []
          },
          "execution_count": 14
        }
      ]
    },
    {
      "metadata": {
        "id": "U5tjdAbn-fts",
        "colab_type": "code",
        "colab": {
          "base_uri": "https://localhost:8080/",
          "height": 34
        },
        "outputId": "a0f78319-50fb-4d12-e7de-5d1c2ad140e0"
      },
      "cell_type": "code",
      "source": [
        "# Indexing into vectors gives you a scalar\n",
        "v[0]"
      ],
      "execution_count": 17,
      "outputs": [
        {
          "output_type": "execute_result",
          "data": {
            "text/plain": [
              "tensor(1.)"
            ]
          },
          "metadata": {
            "tags": []
          },
          "execution_count": 17
        }
      ]
    },
    {
      "metadata": {
        "id": "LUl0or30-uh5",
        "colab_type": "code",
        "colab": {
          "base_uri": "https://localhost:8080/",
          "height": 34
        },
        "outputId": "3888d4ef-d2f4-4bbd-ee0d-1f93637ae616"
      },
      "cell_type": "code",
      "source": [
        "# Indexing into matrices gives you a vector\n",
        "m[0]"
      ],
      "execution_count": 18,
      "outputs": [
        {
          "output_type": "execute_result",
          "data": {
            "text/plain": [
              "tensor([1., 2., 3.])"
            ]
          },
          "metadata": {
            "tags": []
          },
          "execution_count": 18
        }
      ]
    },
    {
      "metadata": {
        "id": "iTZ4zFgc-xKA",
        "colab_type": "code",
        "colab": {
          "base_uri": "https://localhost:8080/",
          "height": 52
        },
        "outputId": "bfb74720-726e-480d-c9ad-a43f54fc8809"
      },
      "cell_type": "code",
      "source": [
        "# Indexing into 3D tensors gives you a matrix\n",
        "t[0]"
      ],
      "execution_count": 19,
      "outputs": [
        {
          "output_type": "execute_result",
          "data": {
            "text/plain": [
              "tensor([[1., 2., 3.],\n",
              "        [1., 2., 3.]])"
            ]
          },
          "metadata": {
            "tags": []
          },
          "execution_count": 19
        }
      ]
    },
    {
      "metadata": {
        "id": "HVNsCEqp_5MH",
        "colab_type": "text"
      },
      "cell_type": "markdown",
      "source": [
        "# Some operations with tensors\n",
        "\n",
        "Here we see only some examples, you can check the extensive guide in pytorch's [documentation](https://pytorch.org/docs/stable/torch.html)"
      ]
    },
    {
      "metadata": {
        "id": "p0ukqbSB_boJ",
        "colab_type": "code",
        "colab": {
          "base_uri": "https://localhost:8080/",
          "height": 34
        },
        "outputId": "f1ccae57-8096-4499-a166-ad7938b428f9"
      },
      "cell_type": "code",
      "source": [
        "x = torch.tensor(data)\n",
        "y = torch.tensor([2., 3., 4.])\n",
        "x + y"
      ],
      "execution_count": 32,
      "outputs": [
        {
          "output_type": "execute_result",
          "data": {
            "text/plain": [
              "tensor([3., 5., 7.])"
            ]
          },
          "metadata": {
            "tags": []
          },
          "execution_count": 32
        }
      ]
    },
    {
      "metadata": {
        "id": "ENOcn5O4__7h",
        "colab_type": "code",
        "colab": {
          "base_uri": "https://localhost:8080/",
          "height": 34
        },
        "outputId": "6199d600-3fe2-48d0-8e6f-aa352cac1963"
      },
      "cell_type": "code",
      "source": [
        "x*y"
      ],
      "execution_count": 33,
      "outputs": [
        {
          "output_type": "execute_result",
          "data": {
            "text/plain": [
              "tensor([ 2.,  6., 12.])"
            ]
          },
          "metadata": {
            "tags": []
          },
          "execution_count": 33
        }
      ]
    },
    {
      "metadata": {
        "id": "lktRX76nA7Zs",
        "colab_type": "code",
        "colab": {
          "base_uri": "https://localhost:8080/",
          "height": 34
        },
        "outputId": "52a72289-d0d6-4f20-f6f9-e4f2cb190ca9"
      },
      "cell_type": "code",
      "source": [
        "x.dot(y)"
      ],
      "execution_count": 34,
      "outputs": [
        {
          "output_type": "execute_result",
          "data": {
            "text/plain": [
              "tensor(20.)"
            ]
          },
          "metadata": {
            "tags": []
          },
          "execution_count": 34
        }
      ]
    },
    {
      "metadata": {
        "id": "87ffnQ_uA-ow",
        "colab_type": "code",
        "colab": {
          "base_uri": "https://localhost:8080/",
          "height": 191
        },
        "outputId": "0b1176f9-0486-463c-e134-5716e5cf55e4"
      },
      "cell_type": "code",
      "source": [
        "# Concatenation along first axis (rows)\n",
        "x_1 = torch.randn(2, 5)\n",
        "print(x_1)\n",
        "y_1 = torch.rand(3, 5)\n",
        "print(y_1)\n",
        "z_1 = torch.cat([x_1, y_1])\n",
        "z_1\n"
      ],
      "execution_count": 41,
      "outputs": [
        {
          "output_type": "stream",
          "text": [
            "tensor([[ 0.2002,  0.3149, -0.8152, -0.4174, -0.3474],\n",
            "        [ 1.1388, -1.7068, -2.3700,  1.3907,  0.2357]])\n",
            "tensor([[0.3692, 0.3334, 0.5936, 0.2308, 0.8848],\n",
            "        [0.0731, 0.4664, 0.4622, 0.7756, 0.1131],\n",
            "        [0.1097, 0.4125, 0.9174, 0.4316, 0.2276]])\n"
          ],
          "name": "stdout"
        },
        {
          "output_type": "execute_result",
          "data": {
            "text/plain": [
              "tensor([[ 0.2002,  0.3149, -0.8152, -0.4174, -0.3474],\n",
              "        [ 1.1388, -1.7068, -2.3700,  1.3907,  0.2357],\n",
              "        [ 0.3692,  0.3334,  0.5936,  0.2308,  0.8848],\n",
              "        [ 0.0731,  0.4664,  0.4622,  0.7756,  0.1131],\n",
              "        [ 0.1097,  0.4125,  0.9174,  0.4316,  0.2276]])"
            ]
          },
          "metadata": {
            "tags": []
          },
          "execution_count": 41
        }
      ]
    },
    {
      "metadata": {
        "id": "ZtUd9B77EwGm",
        "colab_type": "code",
        "colab": {
          "base_uri": "https://localhost:8080/",
          "height": 139
        },
        "outputId": "97078838-7942-4ee9-d114-7d7c28e15c89"
      },
      "cell_type": "code",
      "source": [
        "# Concatenation along second axis (cols)\n",
        "x_2 = torch.randn(2, 3)\n",
        "print(x_2)\n",
        "y_2 = torch.rand(2, 5)\n",
        "print(y_2)\n",
        "z_2 = torch.cat([x_2, y_2], 1)\n",
        "print(z_2)\n",
        "z_2.shape\n"
      ],
      "execution_count": 43,
      "outputs": [
        {
          "output_type": "stream",
          "text": [
            "tensor([[-0.5795,  1.1239,  1.7605],\n",
            "        [-0.2429, -1.0143,  0.3247]])\n",
            "tensor([[0.4940, 0.8373, 0.7835, 0.2938, 0.0788],\n",
            "        [0.0974, 0.2213, 0.4784, 0.4499, 0.6529]])\n",
            "tensor([[-0.5795,  1.1239,  1.7605,  0.4940,  0.8373,  0.7835,  0.2938,  0.0788],\n",
            "        [-0.2429, -1.0143,  0.3247,  0.0974,  0.2213,  0.4784,  0.4499,  0.6529]])\n"
          ],
          "name": "stdout"
        },
        {
          "output_type": "execute_result",
          "data": {
            "text/plain": [
              "torch.Size([2, 8])"
            ]
          },
          "metadata": {
            "tags": []
          },
          "execution_count": 43
        }
      ]
    },
    {
      "metadata": {
        "id": "yE9QIN5aFZYw",
        "colab_type": "code",
        "colab": {}
      },
      "cell_type": "code",
      "source": [
        "# Incompatible concat: try uncommenting\n",
        "# torch.cat([x_1, x_2])"
      ],
      "execution_count": 0,
      "outputs": []
    },
    {
      "metadata": {
        "id": "mQDexVSIG6MR",
        "colab_type": "text"
      },
      "cell_type": "markdown",
      "source": [
        "# Reshaping tensors\n",
        "This is a widely used operation in order to feed the different neural network components with the right input shapes. We will see some concrete examples later.\n"
      ]
    },
    {
      "metadata": {
        "id": "M7TYpyLNFvq0",
        "colab_type": "code",
        "colab": {
          "base_uri": "https://localhost:8080/",
          "height": 121
        },
        "outputId": "ec3bae43-eb4b-4b46-95e3-b0b5cbe4e30b"
      },
      "cell_type": "code",
      "source": [
        "x = torch.randn(2,2,2)\n",
        "print(x)\n",
        "x.shape\n"
      ],
      "execution_count": 68,
      "outputs": [
        {
          "output_type": "stream",
          "text": [
            "tensor([[[ 0.9308, -1.0904],\n",
            "         [-0.8758, -1.0550]],\n",
            "\n",
            "        [[-0.2316,  0.0204],\n",
            "         [-0.3667, -0.8472]]])\n"
          ],
          "name": "stdout"
        },
        {
          "output_type": "execute_result",
          "data": {
            "text/plain": [
              "torch.Size([2, 2, 2])"
            ]
          },
          "metadata": {
            "tags": []
          },
          "execution_count": 68
        }
      ]
    },
    {
      "metadata": {
        "id": "mfKrzIhVHPmi",
        "colab_type": "code",
        "colab": {
          "base_uri": "https://localhost:8080/",
          "height": 52
        },
        "outputId": "dea6b611-d702-44bd-ee67-3d673e27d44e"
      },
      "cell_type": "code",
      "source": [
        "# Reshape into a matrix of 2 rows 4 columns\n",
        "print(x.view(2, 4))"
      ],
      "execution_count": 74,
      "outputs": [
        {
          "output_type": "stream",
          "text": [
            "tensor([[ 0.9308, -1.0904, -0.8758, -1.0550],\n",
            "        [-0.2316,  0.0204, -0.3667, -0.8472]])\n"
          ],
          "name": "stdout"
        }
      ]
    },
    {
      "metadata": {
        "id": "rCvWSvzyHp1F",
        "colab_type": "code",
        "colab": {
          "base_uri": "https://localhost:8080/",
          "height": 52
        },
        "outputId": "169de4f5-8edd-4e40-8edd-cc6920dd187f"
      },
      "cell_type": "code",
      "source": [
        "# You can use -1 for letting torch inferring the size of one of the dimensions\n",
        "print(x.view(-1,4))\n",
        "# print(x.view(2, -1), x.view(2, -1).shape)\n",
        "# print(x.view(-1, 8), x.view(-1, 8).shape)\n",
        "# print(x.view(1, -1), x.view(1, -1).shape)\n",
        "# print(x.view(4, -1), x.view(4, -1).shape)"
      ],
      "execution_count": 87,
      "outputs": [
        {
          "output_type": "stream",
          "text": [
            "tensor([[ 0.9308, -1.0904, -0.8758, -1.0550],\n",
            "        [-0.2316,  0.0204, -0.3667, -0.8472]])\n"
          ],
          "name": "stdout"
        }
      ]
    },
    {
      "metadata": {
        "id": "DVm8Iq7XIfgX",
        "colab_type": "code",
        "colab": {}
      },
      "cell_type": "code",
      "source": [
        ""
      ],
      "execution_count": 0,
      "outputs": []
    }
  ]
}